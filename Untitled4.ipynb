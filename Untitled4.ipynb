{
  "nbformat": 4,
  "nbformat_minor": 0,
  "metadata": {
    "colab": {
      "provenance": []
    },
    "kernelspec": {
      "name": "python3",
      "display_name": "Python 3"
    },
    "language_info": {
      "name": "python"
    }
  },
  "cells": [
    {
      "cell_type": "code",
      "source": [
        "import pandas as pd\n",
        "import numpy as np\n",
        "\n",
        "def load_data(csv_filename):\n",
        "  data = pd.read_csv(csv_filename, sep=';')\n",
        "  data = data.drop(columns=['quality'])\n",
        "  return data.to_numpy()\n",
        "\n",
        "def split_data(dataset, ratio):\n",
        "  amount = int(ratio * len(dataset))\n",
        "  return dataset[:amount], dataset[amount:]\n",
        "\n",
        "# Load data\n",
        "white_wine_data = load_data('whitewine.csv')\n",
        "red_wine_data = load_data('redwine.csv')\n",
        "\n",
        "# Split data\n",
        "train_ratio = 0.9\n",
        "ww_training, ww_test = split_data(white_wine_data, train_ratio)\n",
        "rw_training, rw_test = split_data(red_wine_data, train_ratio)\n",
        "\n",
        "# Print shapes\n",
        "print(\"White Wine Training Set Shape:\", ww_training.shape)\n",
        "print(\"White Wine Test Set Shape:\", ww_test.shape)\n",
        "print(\"Red Wine Training Set Shape:\", rw_training.shape)\n",
        "print(\"Red Wine Test Set Shape:\", rw_test.shape)"
      ],
      "metadata": {
        "colab": {
          "base_uri": "https://localhost:8080/"
        },
        "id": "qNbI4lqRfpmP",
        "outputId": "0ce042da-fd33-4102-8714-6f24bea1efa5"
      },
      "execution_count": 15,
      "outputs": [
        {
          "output_type": "stream",
          "name": "stdout",
          "text": [
            "White Wine Training Set Shape: (1439, 11)\n",
            "White Wine Test Set Shape: (160, 11)\n",
            "Red Wine Training Set Shape: (1439, 11)\n",
            "Red Wine Test Set Shape: (160, 11)\n"
          ]
        }
      ]
    },
    {
      "cell_type": "code",
      "execution_count": 21,
      "metadata": {
        "colab": {
          "base_uri": "https://localhost:8080/"
        },
        "id": "SYIGIdcJet7v",
        "outputId": "ca9eaf9b-0918-49c3-9eb5-6c6fa9684c56"
      },
      "outputs": [
        {
          "output_type": "stream",
          "name": "stdout",
          "text": [
            "Total Predictions: 320\n",
            "Correct Predictions: 291\n",
            "Accuracy: 0.9094\n",
            "Final Accuracy: 0.909375\n"
          ]
        }
      ],
      "source": [
        "def make_centroid(labeled_examples):\n",
        "  return sum(labeled_examples) / labeled_examples.shape[0]\n",
        "\n",
        "def euclidean_distance(a, b):\n",
        "  return np.linalg.norm(a - b)\n",
        "\n",
        "def experiment(trainingw, trainingr, testw, testr):\n",
        "  white_centroid, red_centroid = make_centroid(trainingw), make_centroid(trainingr)\n",
        "\n",
        "  correct_predictions = 0\n",
        "  total_predictions = 0\n",
        "\n",
        "  for item in ww_test:\n",
        "      distance_to_white = euclidean_distance(item, white_centroid)\n",
        "      distance_to_red = euclidean_distance(item, red_centroid)\n",
        "      if distance_to_white < distance_to_red:\n",
        "          correct_predictions += 1\n",
        "      total_predictions += 1\n",
        "\n",
        "\n",
        "  for item in rw_test:\n",
        "      distance_to_white = euclidean_distance(item, white_centroid)\n",
        "      distance_to_red = euclidean_distance(item, red_centroid)\n",
        "      if distance_to_red < distance_to_white:\n",
        "          correct_predictions += 1\n",
        "      total_predictions += 1\n",
        "\n",
        "  accuracy = correct_predictions / total_predictions\n",
        "  print(f\"Total Predictions: {total_predictions}\")\n",
        "  print(f\"Correct Predictions: {correct_predictions}\")\n",
        "  print(f\"Accuracy: {accuracy:.4f}\")\n",
        "  return accuracy\n",
        "accuracy = experiment(ww_training, rw_training, ww_test, rw_test)\n",
        "print(\"Final Accuracy:\", accuracy)"
      ]
    },
    {
      "cell_type": "code",
      "source": [
        "def cross_validation(ww_data, rw_data, k):\n",
        "    ww_partition_size = len(ww_data) // k\n",
        "    rw_partition_size = len(rw_data) // k\n",
        "\n",
        "    accuracies = []\n",
        "\n",
        "    for fold in range(k):\n",
        "      ww_test_start = fold * ww_partition_size\n",
        "      ww_test_end = (fold + 1) * ww_partition_size\n",
        "      rw_test_start = fold * rw_partition_size\n",
        "      rw_test_end = (fold + 1) * rw_partition_size\n",
        "\n",
        "      ww_test = ww_data[ww_test_start:ww_test_end]\n",
        "      rw_test = rw_data[rw_test_start:rw_test_end]\n",
        "\n",
        "      ww_train = np.vstack((ww_data[:ww_test_start], ww_data[ww_test_end:]))\n",
        "      rw_train = np.vstack((rw_data[:rw_test_start], rw_data[rw_test_end:]))\n",
        "\n",
        "      accuracy = experiment(ww_train, rw_train, ww_test, rw_test)\n",
        "      accuracies.append(accuracy)\n",
        "\n",
        "    average_accuracy = np.mean(accuracies)\n",
        "    return average_accuracy\n",
        "\n",
        "\n",
        "k = 5\n",
        "average_accuracy = cross_validation(white_wine_data, red_wine_data, k)\n",
        "print(f\"Average accuracy over {k}-fold cross-validation: {average_accuracy:.2f}\")"
      ],
      "metadata": {
        "colab": {
          "base_uri": "https://localhost:8080/"
        },
        "id": "A0HjYmN9e-j_",
        "outputId": "b4f31e22-23c0-418d-c919-4eb9c87f63a4"
      },
      "execution_count": 22,
      "outputs": [
        {
          "output_type": "stream",
          "name": "stdout",
          "text": [
            "Total Predictions: 320\n",
            "Correct Predictions: 295\n",
            "Accuracy: 0.9219\n",
            "Total Predictions: 320\n",
            "Correct Predictions: 291\n",
            "Accuracy: 0.9094\n",
            "Total Predictions: 320\n",
            "Correct Predictions: 291\n",
            "Accuracy: 0.9094\n",
            "Total Predictions: 320\n",
            "Correct Predictions: 291\n",
            "Accuracy: 0.9094\n",
            "Total Predictions: 320\n",
            "Correct Predictions: 291\n",
            "Accuracy: 0.9094\n",
            "Average accuracy over 5-fold cross-validation: 0.91\n"
          ]
        }
      ]
    },
    {
      "cell_type": "code",
      "source": [],
      "metadata": {
        "id": "pi-rvwTMjDbB"
      },
      "execution_count": null,
      "outputs": []
    }
  ]
}