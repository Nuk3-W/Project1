{
 "cells": [
  {
   "cell_type": "code",
   "execution_count": 66,
   "id": "bae63862-66a9-4a46-b560-3109947d70ce",
   "metadata": {},
   "outputs": [],
   "source": [
    "import pandas as pd\n",
    "import numpy as np\n",
    "\n",
    "def load_data(csv_filename):\n",
    "    df = pd.read_csv(csv_filename, sep=\";\")\n",
    "    dfclean = df.loc[:, df.columns != 'quality']\n",
    "    pre = np.vstack([dfclean[:]])\n",
    "    if csv_filename == \"redwine.csv\":\n",
    "        array = np.hstack((np.ones([len(dfclean), 1]), pre)) #puts a 1 at the beginning of the array so we know if its red or white wine\n",
    "    else:\n",
    "        array = np.hstack((np.zeros([len(dfclean), 1]), pre)) #0 for whitewine\n",
    "    return array\n",
    "\n",
    "def split_data(dataset, ratio):\n",
    "    amount = int(ratio * len(dataset))\n",
    "    traintest = (dataset[:amount], dataset[amount:])\n",
    "    return traintest\n",
    "\n",
    "redwine = load_data(\"redwine.csv\")\n",
    "whitewine = load_data(\"whitewine.csv\")\n",
    "\n",
    "trainingr, testr = split_data(redwine, .9)\n",
    "trainingw, testw = split_data(whitewine, .9)"
   ]
  }
 ],
 "metadata": {
  "kernelspec": {
   "display_name": "Python 3 (ipykernel)",
   "language": "python",
   "name": "python3"
  },
  "language_info": {
   "codemirror_mode": {
    "name": "ipython",
    "version": 3
   },
   "file_extension": ".py",
   "mimetype": "text/x-python",
   "name": "python",
   "nbconvert_exporter": "python",
   "pygments_lexer": "ipython3",
   "version": "3.12.4"
  }
 },
 "nbformat": 4,
 "nbformat_minor": 5
}
