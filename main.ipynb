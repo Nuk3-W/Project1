{
 "cells": [
  {
   "cell_type": "code",
   "execution_count": 40,
   "id": "bae63862-66a9-4a46-b560-3109947d70ce",
   "metadata": {},
   "outputs": [],
   "source": [
    "import pandas as pd\n",
    "import numpy as np\n",
    "\n",
    "def load_data(csv_filename):\n",
    "    df = pd.read_csv(csv_filename, sep=\";\")\n",
    "    dfclean = df.loc[:, df.columns != 'quality']\n",
    "    pre = np.vstack([dfclean[:]]) # could use dfclean.to_numpy() but wasn't thinking about it\n",
    "    if csv_filename == \"redwine.csv\":\n",
    "        array = np.hstack((np.ones([len(dfclean), 1]), pre)) #puts a 1 at the beginning of the array so we know if its red or white wine\n",
    "    else:\n",
    "        array = np.hstack((np.zeros([len(dfclean), 1]), pre)) #0 for whitewine\n",
    "    return array\n",
    "\n",
    "def split_data(dataset, ratio):\n",
    "    amount = int(ratio * len(dataset))\n",
    "    traintest = (dataset[:amount], dataset[amount:])\n",
    "    return traintest\n",
    "\n",
    "def make_centroid(labeled_examples):\n",
    "    return sum(labeled_examples[:,1:]) / labeled_examples.shape[0] #copied from ml lectures notes as said in instructions\n",
    "\n",
    "def euclidean_distance(a, b): #also copied from lecture\n",
    "    # Return the norm (length) of the vector a - b\n",
    "    return np.linalg.norm(a - b)\n",
    "\n",
    "def experiment(trainingw, trainingr, testw, testr):\n",
    "    wcentroid, rcentroid = make_centroid(trainingw), make_centroid(trainingr)\n",
    "    correctw, incorrectw = 0, 0\n",
    "    correctr, incorrectr = 0, 0\n",
    "    for i in testw:\n",
    "        rdist = euclidean_distance(rcentroid, i[1:])\n",
    "        wdist = euclidean_distance(wcentroid, i[1:])\n",
    "        if rdist < wdist:\n",
    "            incorrectw += 1\n",
    "        else:\n",
    "            correctw += 1\n",
    "    for i in testr:\n",
    "        rdist = euclidean_distance(rcentroid, i[1:])\n",
    "        wdist = euclidean_distance(wcentroid, i[1:])\n",
    "        if rdist < wdist:\n",
    "            correctr += 1\n",
    "        else:\n",
    "            incorrectr += 1\n",
    "\n",
    "    print(str(len(testw)) + \" number of predictions for white wine\")\n",
    "    print(\"total correct prediction: \" + str(correctw))\n",
    "    print(\"percent accuracy:\" + str(correctw/len(testw)))\n",
    "    \n",
    "    print(str(len(testr)) + \" number of predictions for red wine\")\n",
    "    print(\"total correct prediction: \" + str(correctr))\n",
    "    print(\"percent accuracy:\" + str(correctr/len(testr)))\n",
    "\n",
    "redwine = load_data(\"redwine.csv\")\n",
    "whitewine = load_data(\"whitewine.csv\")\n",
    "\n",
    "trainingr, testr = split_data(redwine, .9)\n",
    "trainingw, testw = split_data(whitewine, .9)"
   ]
  },
  {
   "cell_type": "code",
   "execution_count": 41,
   "id": "a90f333e-ce2a-4a8c-a868-e2bb50493f9a",
   "metadata": {},
   "outputs": [
    {
     "name": "stdout",
     "output_type": "stream",
     "text": [
      "160 number of predictions for white wine\n",
      "total correct prediction: 142\n",
      "percent accuracy:0.8875\n",
      "160 number of predictions for red wine\n",
      "total correct prediction: 149\n",
      "percent accuracy:0.93125\n"
     ]
    }
   ],
   "source": [
    "experiment(trainingw, trainingr, testw, testr)"
   ]
  },
  {
   "cell_type": "code",
   "execution_count": null,
   "id": "4c9b7e86-40e8-4549-ba4c-77cefe84236d",
   "metadata": {},
   "outputs": [],
   "source": []
  }
 ],
 "metadata": {
  "kernelspec": {
   "display_name": "Python 3 (ipykernel)",
   "language": "python",
   "name": "python3"
  },
  "language_info": {
   "codemirror_mode": {
    "name": "ipython",
    "version": 3
   },
   "file_extension": ".py",
   "mimetype": "text/x-python",
   "name": "python",
   "nbconvert_exporter": "python",
   "pygments_lexer": "ipython3",
   "version": "3.12.4"
  }
 },
 "nbformat": 4,
 "nbformat_minor": 5
}
